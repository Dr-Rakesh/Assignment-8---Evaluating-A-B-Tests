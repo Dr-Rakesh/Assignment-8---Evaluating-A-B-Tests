{
 "cells": [
  {
   "cell_type": "markdown",
   "id": "greatest-climate",
   "metadata": {},
   "source": [
    "# Assignment - Evaluating A/B Tests \n",
    "\n",
    "As you go through this notebook, you will find the symbol **???** in certain places. To complete this assignment, you must replace all the **???** with appropriate values, expressions, or statements to ensure that the notebook runs properly end-to-end. \n",
    "\n",
    "**Guidelines**\n",
    "\n",
    "1. Make sure to run all the code cells in order. Otherwise, you may get errors like `NameError` for undefined variables.\n",
    "2. Do not change variable names, delete cells, or disturb other existing code. It may cause problems during evaluation.\n",
    "3. In some cases, you may need to add some code cells or new statements before or after the line of code containing the **???**. \n",
    "4. Since you'll be using a temporary online service for code execution, save your work by running `jovian.commit` at regular intervals.\n",
    "5. Questions marked **(Optional)** will not be considered for evaluation and can be skipped. They are for your learning.\n",
    "6. If you are stuck, you can ask for help on the bootcamp Slack group. Post errors, ask for hints, and help others, but **please don't share the complete solution code on Slack** to give others a chance to write the code themselves.\n",
    "7. There are some tests included with this notebook to help you test your implementation. However, after submission, your code will be tested with some hidden test cases. Make sure to test your code exhaustively to cover all edge cases.\n",
    "\n"
   ]
  },
  {
   "cell_type": "markdown",
   "id": "official-hundred",
   "metadata": {},
   "source": [
    "### How to Run the Code and Save Your Work\n",
    "\n",
    "**Option 1: Running using free online resources (1-click, recommended)**: Click the **Run** button at the top of this page and select **Run on Binder**. You can also select \"Run on Colab\" or \"Run on Kaggle\", but you'll need to create an account on [Google Colab](https://colab.research.google.com) or [Kaggle](https://kaggle.com) to use these platforms.\n",
    "\n",
    "\n",
    "**Option 2: Running on your computer locally**: To run the code on your computer locally, you'll need to set up [Python](https://www.python.org) & [Conda](https://docs.conda.io/projects/conda/en/latest/user-guide/install/), download the notebook and install the required libraries. Click the **Run** button at the top of this page, select the **Run Locally** option, and follow the instructions.\n",
    "\n",
    "**Saving your work**: You can save a snapshot of the assignment to your [Jovian](https://jovian.ai) profile, so that you can access it later and continue your work. Keep saving your work by running `jovian.commit` from time to time."
   ]
  },
  {
   "cell_type": "code",
   "execution_count": 1,
   "id": "express-drill",
   "metadata": {},
   "outputs": [],
   "source": [
    "project_name='evaluating-ab-tests-assignment'"
   ]
  },
  {
   "cell_type": "code",
   "execution_count": 2,
   "id": "confidential-ending",
   "metadata": {},
   "outputs": [],
   "source": [
    "!pip install jovian --upgrade --quiet"
   ]
  },
  {
   "cell_type": "code",
   "execution_count": 3,
   "id": "spatial-observation",
   "metadata": {},
   "outputs": [],
   "source": [
    "import jovian"
   ]
  },
  {
   "cell_type": "code",
   "execution_count": 4,
   "id": "anonymous-annex",
   "metadata": {},
   "outputs": [
    {
     "data": {
      "application/javascript": [
       "window.require && require([\"base/js/namespace\"],function(Jupyter){Jupyter.notebook.save_checkpoint()})"
      ],
      "text/plain": [
       "<IPython.core.display.Javascript object>"
      ]
     },
     "metadata": {},
     "output_type": "display_data"
    },
    {
     "name": "stdout",
     "output_type": "stream",
     "text": [
      "[jovian] Creating a new project \"rakesh-rajagopalachary/evaluating-ab-tests-assignment\"\u001b[0m\n",
      "[jovian] Committed successfully! https://jovian.ai/rakesh-rajagopalachary/evaluating-ab-tests-assignment\u001b[0m\n"
     ]
    },
    {
     "data": {
      "text/plain": [
       "'https://jovian.ai/rakesh-rajagopalachary/evaluating-ab-tests-assignment'"
      ]
     },
     "execution_count": 4,
     "metadata": {},
     "output_type": "execute_result"
    }
   ],
   "source": [
    "jovian.commit(project=project_name, privacy='secret')"
   ]
  },
  {
   "cell_type": "markdown",
   "id": "magnetic-voluntary",
   "metadata": {},
   "source": [
    "Let's import some modules which might be useful later."
   ]
  },
  {
   "cell_type": "code",
   "execution_count": 5,
   "id": "other-shakespeare",
   "metadata": {},
   "outputs": [],
   "source": [
    "import math\n",
    "import numpy as np\n",
    "from scipy.stats import norm"
   ]
  },
  {
   "cell_type": "markdown",
   "id": "timely-builder",
   "metadata": {},
   "source": [
    "## Problem Statement - A/B Testing\n",
    "\n",
    "> **QUESTION**: In preparation for the upcoming batch of the Zero to Data Analyst Bootcamp, the Jovian team is looking to improve the course registration page. In particular, we're interested in trying out two variations of the banner text:\n",
    ">\n",
    "> ![](https://i.imgur.com/cSu1RI3.png)\n",
    ">\n",
    "> Variant A is what we've used for previous batches, while Variant B is the proposed \"improved\" version. Instead of choosing one or the other, we decided to test out both options by showing different versions of the page to different website visitors (hence the name A/B Testing), and make a data driven decision. \n",
    ">\n",
    "> Over a week of testing, Variant A was shown to 85% of visitors who came to the site, and Variant B was shown to 15% of visitors. Here are the results produced by the experiment:\n",
    ">\n",
    "> <img src=\"https://i.imgur.com/ym1Os3U.png\" width=\"360\">\n",
    ">\n",
    "> Does Variant B produce a statistically significant improvement in the conversion rate? Should we switch to variant B and discard variant A completely? Use a significance level of 0.01 for the test."
   ]
  },
  {
   "cell_type": "markdown",
   "id": "stupid-function",
   "metadata": {},
   "source": [
    "### Step 1. State the Null Hypothesis And the Alternate Hypothesis\n",
    "\n",
    "The number we're interested in is the average conversion rate i.e. the percentage of website visitors that registered for the program.\n",
    "\n",
    "(Optional) State the null hypothesis and the alternate hypothesis in your own words:\n",
    "\n",
    "- **Null Hypothesis**: ???\n",
    "\n",
    "- **Alternate Hypothesis**: ???\n",
    "\n",
    "The two hypotheses can be stated mathematically as follows (can you see why?):\n",
    "\n",
    "$H_0: \\mu \\le 52/17000$\n",
    "\n",
    "$H_1: \\mu > 52/17000$\n",
    "\n",
    "Here, $\\mu$ represents the average conversion rate. We'll start by assuming that the null hypothesis is true.\n",
    "\n"
   ]
  },
  {
   "cell_type": "markdown",
   "id": "e04d6875",
   "metadata": {},
   "source": [
    "### Null Hypothesis (H0): From Jovian bootcamp applicants had an average less than equal to 52 conversions."
   ]
  },
  {
   "cell_type": "markdown",
   "id": "50ea737c",
   "metadata": {},
   "source": [
    "### Alternate Hypothesis (H1): From Jovian bootcamp applicants had an average more than 52 conversions."
   ]
  },
  {
   "cell_type": "markdown",
   "id": "colored-guidance",
   "metadata": {},
   "source": [
    "Let's save our work before continuing"
   ]
  },
  {
   "cell_type": "code",
   "execution_count": 6,
   "id": "conditional-blanket",
   "metadata": {},
   "outputs": [
    {
     "data": {
      "application/javascript": [
       "window.require && require([\"base/js/namespace\"],function(Jupyter){Jupyter.notebook.save_checkpoint()})"
      ],
      "text/plain": [
       "<IPython.core.display.Javascript object>"
      ]
     },
     "metadata": {},
     "output_type": "display_data"
    },
    {
     "name": "stdout",
     "output_type": "stream",
     "text": [
      "[jovian] Updating notebook \"rakesh-rajagopalachary/evaluating-ab-tests-assignment\" on https://jovian.ai\u001b[0m\n",
      "[jovian] Committed successfully! https://jovian.ai/rakesh-rajagopalachary/evaluating-ab-tests-assignment\u001b[0m\n"
     ]
    },
    {
     "data": {
      "text/plain": [
       "'https://jovian.ai/rakesh-rajagopalachary/evaluating-ab-tests-assignment'"
      ]
     },
     "execution_count": 6,
     "metadata": {},
     "output_type": "execute_result"
    }
   ],
   "source": [
    "jovian.commit()"
   ]
  },
  {
   "cell_type": "markdown",
   "id": "quarterly-venue",
   "metadata": {},
   "source": [
    "### Step 2. Compute the Z Statistic\n",
    "\n",
    "\n",
    "<img src=\"https://i.imgur.com/AUJX4qi.png\" width=\"120\">\n",
    "\n",
    "where:\n",
    "\n",
    "* $\\overline{X}$ is the sample mean (computed using the observed values)\n",
    "* $\\mu$ is the population mean (stated in the null hypothesis)\n",
    "* $\\sigma$ is the population standard deviation (if unavailable, use sample standard deviation as an approximation)\n",
    "* $n$ is the number of samples collected\n",
    "\n"
   ]
  },
  {
   "cell_type": "code",
   "execution_count": 9,
   "id": "handled-serial",
   "metadata": {},
   "outputs": [],
   "source": [
    "sample_visitors = 3000\n",
    "sample_registrations = 12"
   ]
  },
  {
   "cell_type": "markdown",
   "id": "stone-kennedy",
   "metadata": {},
   "source": [
    "> **QUESTION 1**: Compute the sample mean (conversion rate) $\\overline{X}$ using the observations for Variant B."
   ]
  },
  {
   "cell_type": "code",
   "execution_count": 10,
   "id": "editorial-prophet",
   "metadata": {},
   "outputs": [],
   "source": [
    "sample_mean = sample_registrations / sample_visitors"
   ]
  },
  {
   "cell_type": "code",
   "execution_count": 11,
   "id": "engaged-finder",
   "metadata": {},
   "outputs": [
    {
     "name": "stdout",
     "output_type": "stream",
     "text": [
      "The sample mean is 0.004\n"
     ]
    }
   ],
   "source": [
    "print('The sample mean is', sample_mean)"
   ]
  },
  {
   "cell_type": "code",
   "execution_count": null,
   "id": "signed-bacon",
   "metadata": {},
   "outputs": [],
   "source": []
  },
  {
   "cell_type": "markdown",
   "id": "atomic-alberta",
   "metadata": {},
   "source": [
    "> **QUESTION 2**: Estimate the population mean (conversion rate) $\\mu$ using the observations for Variant A"
   ]
  },
  {
   "cell_type": "code",
   "execution_count": 12,
   "id": "graduate-gross",
   "metadata": {},
   "outputs": [],
   "source": [
    "population_registrations = 52\n",
    "population_visitors = 17000\n",
    "population_mean = population_registrations / population_visitors"
   ]
  },
  {
   "cell_type": "code",
   "execution_count": 13,
   "id": "occupied-suite",
   "metadata": {},
   "outputs": [
    {
     "name": "stdout",
     "output_type": "stream",
     "text": [
      "The population mean is 0.003058823529411765\n"
     ]
    }
   ],
   "source": [
    "print('The population mean is', population_mean)"
   ]
  },
  {
   "cell_type": "code",
   "execution_count": null,
   "id": "apart-shore",
   "metadata": {},
   "outputs": [],
   "source": []
  },
  {
   "cell_type": "markdown",
   "id": "distinct-attention",
   "metadata": {},
   "source": [
    "Note that the act of a visitor visiting is a Bernoulli trial. There are two possible outcomes: the visitor registers (success) or the visitor does not register (failure). The conversion rate indicates the probability of success (i.e. registration). \n",
    "\n",
    "As this discussed in the lesson on [Hypothesis Testing](https://jovian.ai/aakashns/hypothesis-testing-and-statistical-significance), the population standard deviation for a Bernoulli trial can be computed as $\\sigma = \\sqrt{\\mu(1 - \\mu}$.\n",
    "\n",
    "> **QUESTION 3**: Compute the population standard deviation $\\sigma$ using the formula $\\sigma = \\sqrt{\\mu(1 - \\mu}$, where $\\mu$ is population mean (conversion rate)."
   ]
  },
  {
   "cell_type": "code",
   "execution_count": 14,
   "id": "animal-hormone",
   "metadata": {},
   "outputs": [],
   "source": [
    "std = np.sqrt(population_mean * (1 - population_mean))"
   ]
  },
  {
   "cell_type": "code",
   "execution_count": 15,
   "id": "sustainable-camera",
   "metadata": {},
   "outputs": [
    {
     "name": "stdout",
     "output_type": "stream",
     "text": [
      "The population standard deviation is 0.05522198047904187\n"
     ]
    }
   ],
   "source": [
    "print('The population standard deviation is', std)"
   ]
  },
  {
   "cell_type": "code",
   "execution_count": null,
   "id": "about-hawaii",
   "metadata": {},
   "outputs": [],
   "source": []
  },
  {
   "cell_type": "markdown",
   "id": "connected-swaziland",
   "metadata": {},
   "source": [
    "> **QUESTION 3**: What is the sample size of the set of observations for Variant B?"
   ]
  },
  {
   "cell_type": "code",
   "execution_count": 16,
   "id": "beginning-consent",
   "metadata": {},
   "outputs": [],
   "source": [
    "sample_size = 3000"
   ]
  },
  {
   "cell_type": "code",
   "execution_count": 17,
   "id": "minus-great",
   "metadata": {},
   "outputs": [
    {
     "name": "stdout",
     "output_type": "stream",
     "text": [
      "The sample size is 3000\n"
     ]
    }
   ],
   "source": [
    "print('The sample size is', sample_size)"
   ]
  },
  {
   "cell_type": "code",
   "execution_count": null,
   "id": "specified-guatemala",
   "metadata": {},
   "outputs": [],
   "source": []
  },
  {
   "cell_type": "markdown",
   "id": "advanced-screening",
   "metadata": {},
   "source": [
    "We are now ready to compute the Z statistic.\n",
    "\n",
    "<img src=\"https://i.imgur.com/AUJX4qi.png\" width=\"120\">\n",
    "\n",
    "where:\n",
    "\n",
    "* $\\overline{X}$ is the sample mean (computed using the observed values)\n",
    "* $\\mu$ is the population mean (stated in the null hypothesis)\n",
    "* $\\sigma$ is the population standard deviation (if unavailable, use sample standard deviation as an approximation)\n",
    "* $n$ is the number of samples collected\n",
    "\n",
    "\n",
    "> **QUESTION 4**: Compute the Z statistic using the above formula."
   ]
  },
  {
   "cell_type": "code",
   "execution_count": 18,
   "id": "fluid-updating",
   "metadata": {},
   "outputs": [],
   "source": [
    "z_statistic = (sample_mean-population_mean)/(std/math.sqrt(sample_size))"
   ]
  },
  {
   "cell_type": "code",
   "execution_count": 19,
   "id": "exciting-stationery",
   "metadata": {},
   "outputs": [
    {
     "name": "stdout",
     "output_type": "stream",
     "text": [
      "The Z statistic for the A/B test is 0.9335115819142353\n"
     ]
    }
   ],
   "source": [
    "print('The Z statistic for the A/B test is', z_statistic)"
   ]
  },
  {
   "cell_type": "code",
   "execution_count": null,
   "id": "integrated-supplement",
   "metadata": {},
   "outputs": [],
   "source": []
  },
  {
   "cell_type": "markdown",
   "id": "micro-classification",
   "metadata": {},
   "source": [
    "Let's save our work before continuing"
   ]
  },
  {
   "cell_type": "code",
   "execution_count": 20,
   "id": "accompanied-newfoundland",
   "metadata": {},
   "outputs": [
    {
     "data": {
      "application/javascript": [
       "window.require && require([\"base/js/namespace\"],function(Jupyter){Jupyter.notebook.save_checkpoint()})"
      ],
      "text/plain": [
       "<IPython.core.display.Javascript object>"
      ]
     },
     "metadata": {},
     "output_type": "display_data"
    },
    {
     "name": "stdout",
     "output_type": "stream",
     "text": [
      "[jovian] Updating notebook \"rakesh-rajagopalachary/evaluating-ab-tests-assignment\" on https://jovian.ai\u001b[0m\n",
      "[jovian] Committed successfully! https://jovian.ai/rakesh-rajagopalachary/evaluating-ab-tests-assignment\u001b[0m\n"
     ]
    },
    {
     "data": {
      "text/plain": [
       "'https://jovian.ai/rakesh-rajagopalachary/evaluating-ab-tests-assignment'"
      ]
     },
     "execution_count": 20,
     "metadata": {},
     "output_type": "execute_result"
    }
   ],
   "source": [
    "jovian.commit()"
   ]
  },
  {
   "cell_type": "markdown",
   "id": "honest-packet",
   "metadata": {},
   "source": [
    "### Step 3. Identify whether the test is left-tailed, right-tailed or two-tailed\n",
    "\n",
    "Use this chart to identify whether you're doing a left-tailed, right-tailed or two-tailed test:\n",
    "\n",
    "![](https://i.imgur.com/rtLYm3c.png)\n",
    "\n",
    "> **QUESTION 5**: Is the A/B test we're conducting left-tailed, right-tailed or two-tailed? Set the value of the variable `test_type` to `\"left-tailed\"`, `\"right-tailed\"` or `\"two-tailed\"` to answer this question."
   ]
  },
  {
   "cell_type": "code",
   "execution_count": 21,
   "id": "minimal-regulation",
   "metadata": {},
   "outputs": [],
   "source": [
    "# Should have the value \"left-tailed\", \"right-tailed\" or \"two-tailed\"\n",
    "test_type = \"right-tailed\""
   ]
  },
  {
   "cell_type": "code",
   "execution_count": 22,
   "id": "liberal-presentation",
   "metadata": {},
   "outputs": [
    {
     "name": "stdout",
     "output_type": "stream",
     "text": [
      "The A/B test we're conducting is a right-tailed test\n"
     ]
    }
   ],
   "source": [
    "print(\"The A/B test we're conducting is a {} test\".format(test_type))"
   ]
  },
  {
   "cell_type": "code",
   "execution_count": null,
   "id": "dimensional-klein",
   "metadata": {},
   "outputs": [],
   "source": []
  },
  {
   "cell_type": "markdown",
   "id": "french-dominican",
   "metadata": {},
   "source": [
    "Let's save our work before continuing"
   ]
  },
  {
   "cell_type": "code",
   "execution_count": 23,
   "id": "continental-philip",
   "metadata": {},
   "outputs": [
    {
     "data": {
      "application/javascript": [
       "window.require && require([\"base/js/namespace\"],function(Jupyter){Jupyter.notebook.save_checkpoint()})"
      ],
      "text/plain": [
       "<IPython.core.display.Javascript object>"
      ]
     },
     "metadata": {},
     "output_type": "display_data"
    },
    {
     "name": "stdout",
     "output_type": "stream",
     "text": [
      "[jovian] Updating notebook \"rakesh-rajagopalachary/evaluating-ab-tests-assignment\" on https://jovian.ai\u001b[0m\n",
      "[jovian] Committed successfully! https://jovian.ai/rakesh-rajagopalachary/evaluating-ab-tests-assignment\u001b[0m\n"
     ]
    },
    {
     "data": {
      "text/plain": [
       "'https://jovian.ai/rakesh-rajagopalachary/evaluating-ab-tests-assignment'"
      ]
     },
     "execution_count": 23,
     "metadata": {},
     "output_type": "execute_result"
    }
   ],
   "source": [
    "jovian.commit()"
   ]
  },
  {
   "cell_type": "markdown",
   "id": "alleged-cosmetic",
   "metadata": {},
   "source": [
    "### Step 4. Calculate the $p$ value using the Z statistic\n",
    "\n",
    "The $p$ value for a statistical test is the the probability of obtaining a sample “equally or more extreme” than the observed data, assuming that the null hypothesis is true. Use the following guidelines to compute the p-value:\n",
    "\n",
    "* **Left tailed**: In this case, the Z statistic is negative, and the p-value is the area to the left of the observed Z statistic, so it can be computed simply as `norm.cdf(z)`\n",
    "\n",
    "* **Right tailed**: In this case, the Z statistic is positive, and the value p-value is the area to the right of the observed Z statistic, so it can be computed as `1 - norm.cdf(z)` (since the total area under the curve representing the probability of all possible z values is 1).\n",
    "\n",
    "* **Two tailed**: In this case, we need to consider both the positive and negative values of the Z statistic. The p-value is the sum of the area to the left of the negative Z statistic and the area to the right of the positive z statistic, so it can be computed as `norm.cdf(-z)` + `1 - norm.cdf(z)` (where `z` indicates the absolute value of the Z statistic)"
   ]
  },
  {
   "cell_type": "markdown",
   "id": "romantic-laundry",
   "metadata": {},
   "source": [
    "> **QUESTION 6**: Compute the $p$ value for the A/B test described in the problem statement above."
   ]
  },
  {
   "cell_type": "code",
   "execution_count": 24,
   "id": "comfortable-criminal",
   "metadata": {},
   "outputs": [],
   "source": [
    "p_value = 1 - norm.cdf(z_statistic)"
   ]
  },
  {
   "cell_type": "code",
   "execution_count": 25,
   "id": "seasonal-heavy",
   "metadata": {},
   "outputs": [
    {
     "name": "stdout",
     "output_type": "stream",
     "text": [
      "The p value for the A/B test is 0.1752779466726011\n"
     ]
    }
   ],
   "source": [
    "print('The p value for the A/B test is', p_value)"
   ]
  },
  {
   "cell_type": "code",
   "execution_count": 26,
   "id": "least-recognition",
   "metadata": {},
   "outputs": [
    {
     "data": {
      "text/plain": [
       "0.9335115819142353"
      ]
     },
     "execution_count": 26,
     "metadata": {},
     "output_type": "execute_result"
    }
   ],
   "source": [
    "z_statistic"
   ]
  },
  {
   "cell_type": "markdown",
   "id": "cloudy-prime",
   "metadata": {},
   "source": [
    "> **QUESTION 7**: Are the results of the A/B test statistically significant? Use a significance level of 0.01."
   ]
  },
  {
   "cell_type": "code",
   "execution_count": 27,
   "id": "inner-capture",
   "metadata": {},
   "outputs": [],
   "source": [
    "if z_statistic < -2.33 or z_statistic > 2.33:\n",
    "    is_significant = True\n",
    "else:\n",
    "    is_significant = False\n",
    "# Should be set to True or False\n",
    "#is_significant = ???"
   ]
  },
  {
   "cell_type": "code",
   "execution_count": 28,
   "id": "resident-consensus",
   "metadata": {},
   "outputs": [
    {
     "name": "stdout",
     "output_type": "stream",
     "text": [
      "The results of the A/B test are NOT statistically significant\n"
     ]
    }
   ],
   "source": [
    "if is_significant:\n",
    "    print('The results of the A/B test are statistically significant')\n",
    "else:\n",
    "    print('The results of the A/B test are NOT statistically significant')"
   ]
  },
  {
   "cell_type": "code",
   "execution_count": null,
   "id": "individual-routine",
   "metadata": {},
   "outputs": [],
   "source": []
  },
  {
   "cell_type": "markdown",
   "id": "composite-watts",
   "metadata": {},
   "source": [
    "### Computing Uplift and Confidence Level\n",
    "\n",
    "Uplift is defined as the ratio of increase in the  \n",
    "\n",
    "\n",
    "Uplift = (New conversion rate - Old Conversion Rate) / Old Conversion Rate\n",
    "\n",
    "> **QUESTION 8**: Compute the uplift in conversion due to Variant B. Use Variant A to compute the old conversion rate"
   ]
  },
  {
   "cell_type": "code",
   "execution_count": 29,
   "id": "enhanced-ribbon",
   "metadata": {},
   "outputs": [],
   "source": [
    "old_conversion_rate = 52 / 17000\n",
    "new_conversion_rate = 12 / 3000\n",
    "uplift = (new_conversion_rate-old_conversion_rate) / old_conversion_rate"
   ]
  },
  {
   "cell_type": "code",
   "execution_count": 30,
   "id": "exclusive-russian",
   "metadata": {},
   "outputs": [
    {
     "name": "stdout",
     "output_type": "stream",
     "text": [
      "0.30769230769230765\n"
     ]
    }
   ],
   "source": [
    "print(uplift)"
   ]
  },
  {
   "cell_type": "markdown",
   "id": "horizontal-basin",
   "metadata": {},
   "source": [
    "> **QUESTION 9**: Compute the confidence level of the results."
   ]
  },
  {
   "cell_type": "code",
   "execution_count": 31,
   "id": "unavailable-lecture",
   "metadata": {},
   "outputs": [],
   "source": [
    "confidence_level = 1-p_value"
   ]
  },
  {
   "cell_type": "code",
   "execution_count": 32,
   "id": "broken-morocco",
   "metadata": {},
   "outputs": [
    {
     "name": "stdout",
     "output_type": "stream",
     "text": [
      "0.8247220533273989\n"
     ]
    }
   ],
   "source": [
    "print(confidence_level)"
   ]
  },
  {
   "cell_type": "code",
   "execution_count": null,
   "id": "increasing-impression",
   "metadata": {},
   "outputs": [],
   "source": []
  },
  {
   "cell_type": "code",
   "execution_count": null,
   "id": "frozen-subscriber",
   "metadata": {},
   "outputs": [],
   "source": []
  },
  {
   "cell_type": "markdown",
   "id": "forced-transsexual",
   "metadata": {},
   "source": [
    "Let's save our work before continuing"
   ]
  },
  {
   "cell_type": "code",
   "execution_count": 33,
   "id": "simplified-classification",
   "metadata": {},
   "outputs": [
    {
     "data": {
      "application/javascript": [
       "window.require && require([\"base/js/namespace\"],function(Jupyter){Jupyter.notebook.save_checkpoint()})"
      ],
      "text/plain": [
       "<IPython.core.display.Javascript object>"
      ]
     },
     "metadata": {},
     "output_type": "display_data"
    },
    {
     "name": "stdout",
     "output_type": "stream",
     "text": [
      "[jovian] Updating notebook \"rakesh-rajagopalachary/evaluating-ab-tests-assignment\" on https://jovian.ai\u001b[0m\n",
      "[jovian] Committed successfully! https://jovian.ai/rakesh-rajagopalachary/evaluating-ab-tests-assignment\u001b[0m\n"
     ]
    },
    {
     "data": {
      "text/plain": [
       "'https://jovian.ai/rakesh-rajagopalachary/evaluating-ab-tests-assignment'"
      ]
     },
     "execution_count": 33,
     "metadata": {},
     "output_type": "execute_result"
    }
   ],
   "source": [
    "jovian.commit()"
   ]
  },
  {
   "cell_type": "markdown",
   "id": "weighted-rapid",
   "metadata": {},
   "source": [
    "## Make a Submission\n",
    "\n",
    "Run the following code cell to make a submission. Alternatively, you can also submit your Jovian notebook link on the [assignment page](https://jovian.ai/learn/zero-to-data-analyst-bootcamp/assignment/evaluating-a-b-tests). \n",
    "\n",
    "\n"
   ]
  },
  {
   "cell_type": "code",
   "execution_count": null,
   "id": "active-harris",
   "metadata": {},
   "outputs": [
    {
     "data": {
      "application/javascript": [
       "window.require && require([\"base/js/namespace\"],function(Jupyter){Jupyter.notebook.save_checkpoint()})"
      ],
      "text/plain": [
       "<IPython.core.display.Javascript object>"
      ]
     },
     "metadata": {},
     "output_type": "display_data"
    }
   ],
   "source": [
    "jovian.submit('zerotoanalyst-a3')"
   ]
  },
  {
   "cell_type": "markdown",
   "id": "royal-future",
   "metadata": {},
   "source": [
    "You can make any number of submission, but only your final submission will be considered for evaluation."
   ]
  }
 ],
 "metadata": {
  "language_info": {
   "codemirror_mode": {
    "name": "ipython",
    "version": 3
   },
   "file_extension": ".py",
   "mimetype": "text/x-python",
   "name": "python",
   "nbconvert_exporter": "python",
   "pygments_lexer": "ipython3",
   "version": "3.9.6"
  }
 },
 "nbformat": 4,
 "nbformat_minor": 5
}